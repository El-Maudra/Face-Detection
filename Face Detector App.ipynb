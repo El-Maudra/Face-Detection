{
 "cells": [
  {
   "cell_type": "markdown",
   "id": "patent-bennett",
   "metadata": {},
   "source": [
    "### Face Detector App\n",
    "\n",
    "To create a `face detector program,` we will use OpenCv(Open Computer Vision library) and a machine learning network on a pre-trained data. <br>\n",
    "So the data we'll use is `haarcascade` data. Haar is just somebody's name and cascade is a chain of events filtering upto the end desired result. So HaarCascase has some feature that are used to train the model with which is then used to predict the frontal parts of the face.\n",
    "\n",
    "Steps are as follows:\n",
    "1. **Import cv2**\n",
    "2. **Load some pre_trained data on frontals from opencv**\n",
    "(<a>https://github.com/opencv/opencv/tree/master/data/haarcascades)\n",
    "3. **Choose an image to detect faces in**\n",
    "4. **Convert to greyscale**\n",
    "5. **Detect Faces**\n",
    "6. **Draw rectangles around the faces**\n",
    "7. **Show the Image**"
   ]
  },
  {
   "cell_type": "markdown",
   "id": "exempt-german",
   "metadata": {},
   "source": [
    "# For Images"
   ]
  },
  {
   "cell_type": "code",
   "execution_count": 1,
   "id": "horizontal-australia",
   "metadata": {},
   "outputs": [],
   "source": [
    "import cv2\n",
    "from random import randrange"
   ]
  },
  {
   "cell_type": "code",
   "execution_count": 3,
   "id": "broad-hampshire",
   "metadata": {},
   "outputs": [
    {
     "name": "stdout",
     "output_type": "stream",
     "text": [
      "Code completed successfully!\n"
     ]
    }
   ],
   "source": [
    "trained_face_data = cv2.CascadeClassifier('haarcascade_frontalface_default.xml')\n",
    "\n",
    "img = cv2.imread('RDJ2.JPG')\n",
    "greyscaled_img = cv2.cvtColor(img, cv2.COLOR_BGR2GRAY)\n",
    "\n",
    "face_coordinates = trained_face_data.detectMultiScale(greyscaled_img)\n",
    "\n",
    "# (x, y, w, h) = face_coordinates[0]\n",
    "# cv2.rectangle(img, (x, y), (x+w, y+h), (0, 255, 0), 2)\n",
    "\n",
    "for (x, y, w, h) in face_coordinates:\n",
    "    cv2.rectangle(img, (x, y), (x+w, y+h), (randrange(256), randrange(256), randrange(256), 10))\n",
    "\n",
    "\n",
    "cv2.imshow('From clever programmer', img)\n",
    "cv2.waitKey()\n",
    "print('Code completed successfully!')"
   ]
  },
  {
   "cell_type": "markdown",
   "id": "occasional-discretion",
   "metadata": {},
   "source": [
    "# For Videos"
   ]
  },
  {
   "cell_type": "code",
   "execution_count": 2,
   "id": "naval-ambassador",
   "metadata": {},
   "outputs": [
    {
     "name": "stdout",
     "output_type": "stream",
     "text": [
      "Code completed successfully!\n"
     ]
    }
   ],
   "source": [
    "trained_face_data = cv2.CascadeClassifier('haarcascade_frontalface_default.xml')\n",
    "\n",
    "webcam = cv2.VideoCapture(0)\n",
    "key = cv2.waitKey(1)\n",
    "\n",
    "while True:\n",
    "    \n",
    "    successful_frame_read, frame = webcam.read()\n",
    "    \n",
    "    greyscaled_img = cv2.cvtColor(frame, cv2.COLOR_BGR2GRAY)\n",
    "    \n",
    "    face_coordinates = trained_face_data.detectMultiScale(greyscaled_img)\n",
    "    \n",
    "    for (x, y, w, h) in face_coordinates:\n",
    "        cv2.rectangle(frame, (x, y), (x+w, y+h), (0, 255, 0, 10))\n",
    "    \n",
    "    cv2.imshow('From Clever Programmer', frame)\n",
    "    key = cv2.waitKey(1)\n",
    "    \n",
    "    if key == 113:\n",
    "        break\n",
    "\n",
    "webcam.release()\n",
    "\n",
    "print('Code completed successfully!')"
   ]
  },
  {
   "cell_type": "code",
   "execution_count": null,
   "id": "after-gallery",
   "metadata": {},
   "outputs": [],
   "source": []
  }
 ],
 "metadata": {
  "kernelspec": {
   "display_name": "Python 3",
   "language": "python",
   "name": "python3"
  },
  "language_info": {
   "codemirror_mode": {
    "name": "ipython",
    "version": 3
   },
   "file_extension": ".py",
   "mimetype": "text/x-python",
   "name": "python",
   "nbconvert_exporter": "python",
   "pygments_lexer": "ipython3",
   "version": "3.8.5"
  }
 },
 "nbformat": 4,
 "nbformat_minor": 5
}
